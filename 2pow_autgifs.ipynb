{
 "cells": [
  {
   "cell_type": "code",
   "execution_count": 265,
   "metadata": {},
   "outputs": [
    {
     "data": {
      "text/plain": [
       "Cyclotomic Field of order 512 and degree 256"
      ]
     },
     "execution_count": 265,
     "metadata": {},
     "output_type": "execute_result"
    }
   ],
   "source": [
    "K.<t>=CyclotomicField(2^9)\n",
    "K"
   ]
  },
  {
   "cell_type": "code",
   "execution_count": 266,
   "metadata": {},
   "outputs": [],
   "source": [
    "deg = K.degree()\n",
    "N = 2*deg"
   ]
  },
  {
   "cell_type": "code",
   "execution_count": 267,
   "metadata": {},
   "outputs": [],
   "source": [
    "auts = K.automorphisms()"
   ]
  },
  {
   "cell_type": "code",
   "execution_count": 268,
   "metadata": {},
   "outputs": [],
   "source": [
    "## various utility functions \n",
    "\n",
    "## turns a number field element to a plottable format \n",
    "def numFldToPt(elt):\n",
    "    z = CC(elt)\n",
    "    return [z[0],z[1]]\n",
    "\n",
    "## given an automorphism aut, returns the value i such that \n",
    "## aut(t) = t^i \n",
    "def autIndex(aut):\n",
    "    at = aut(t)\n",
    "    conjs = [t^i for i in [0..N-1]]\n",
    "    return conjs.index(at)\n",
    "\n",
    "## returns the binary expansion of n with length at least L \n",
    "def binaryExp(n,L):\n",
    "    exp = []\n",
    "    e1 = ceil(log(n,2))\n",
    "    e2 = ceil(log(L,2))\n",
    "    N = n\n",
    "    for i in [1..max(e1,e2)]:\n",
    "        r = N % 2\n",
    "        exp.append(r)\n",
    "        N = (N-r)/2\n",
    "    return exp\n",
    "\n",
    "## cooks up a gif name in a nice deterministic way \n",
    "def gifName(d,N):\n",
    "    name=\"\";\n",
    "    exp = [str(u) for u in binaryExp(d,N)]\n",
    "    for u in exp:\n",
    "        name += u\n",
    "    return name + \".gif\""
   ]
  },
  {
   "cell_type": "code",
   "execution_count": 224,
   "metadata": {},
   "outputs": [],
   "source": [
    "## creates all the gifs associated to all automorphisms of K \n",
    "## NOTE: when K has large degree one's laptop may start to chug, melt, etc. \n",
    "\n",
    "L = 50\n",
    "\n",
    "for d in [0..deg-1]:\n",
    "    frames = []\n",
    "    name = gifName(autIndex(auts[d]),N)\n",
    "\n",
    "    for v in [1..L]:\n",
    "\n",
    "        u = v/L\n",
    "        start_points = [t^i for i in [0..N-1]]\n",
    "        end_points = [auts[d](t)^i for i in [0..N-1]]\n",
    "\n",
    "        points = [numFldToPt(u*start_points[i] + (1-u)*end_points[i] ) for i in [0..N-1]]\n",
    "        frames.append(list_plot(points,marker=\".\",aspect_ratio=1,rgbcolor=[0,0,0]\n",
    "                                   ,size=100,xmin=-1,xmax=1,ymin=-1,ymax=1))\n",
    "\n",
    "\n",
    "    a = animate(frames)\n",
    "    a.gif(delay = 7,savefile=name)"
   ]
  },
  {
   "cell_type": "code",
   "execution_count": null,
   "metadata": {},
   "outputs": [],
   "source": []
  },
  {
   "cell_type": "code",
   "execution_count": null,
   "metadata": {},
   "outputs": [],
   "source": []
  },
  {
   "cell_type": "code",
   "execution_count": 245,
   "metadata": {},
   "outputs": [],
   "source": [
    "## a few more utlity functions \n",
    "\n",
    "## returns the index of the automorphism in the list auts \n",
    "## that sends t -> t^d \n",
    "def indexToAut(d):\n",
    "    at = [u(t) for u in auts]\n",
    "    return at.index(t^d)\n",
    "\n",
    "## given a binary expansion in list, returns the number it \n",
    "## represents \n",
    "def binaryExpToN(list):\n",
    "    N = 0\n",
    "    for i in [0..len(list)-1]:\n",
    "        N += list[i]*2^i\n",
    "    return N"
   ]
  },
  {
   "cell_type": "code",
   "execution_count": 264,
   "metadata": {},
   "outputs": [
    {
     "data": {
      "text/plain": [
       "341"
      ]
     },
     "execution_count": 264,
     "metadata": {},
     "output_type": "execute_result"
    }
   ],
   "source": [
    "binaryExpToN([1,0,1,0,1,0,1,0,1])"
   ]
  },
  {
   "cell_type": "code",
   "execution_count": null,
   "metadata": {},
   "outputs": [],
   "source": []
  },
  {
   "cell_type": "code",
   "execution_count": 269,
   "metadata": {},
   "outputs": [],
   "source": [
    "## if you know which particular automorphism you'd like\n",
    "## this generates just one gif attached to that automorphism \n",
    "## where your chosen aut sends t -> t^e\n",
    "\n",
    "frames = []\n",
    "\n",
    "L = 50\n",
    "\n",
    "e = 85\n",
    "\n",
    "d = indexToAut(e)\n",
    "name = gifName(autIndex(auts[d]),N)\n",
    "\n",
    "for v in [1..L]:\n",
    "    \n",
    "    u = v/L\n",
    "    start_points = [t^i for i in [0..N-1]]\n",
    "    end_points = [auts[d](t)^i for i in [0..N-1]]\n",
    "    \n",
    "    points = [numFldToPt(u*start_points[i] + (1-u)*end_points[i] ) for i in [0..N-1]]\n",
    "    frames.append(list_plot(points,marker=\".\",aspect_ratio=1,rgbcolor=[0,0,0]\n",
    "                               ,size=100,xmin=-1,xmax=1,ymin=-1,ymax=1))\n",
    "\n",
    "\n",
    "a = animate(frames)\n",
    "a.gif(delay = 7,savefile=name)"
   ]
  },
  {
   "cell_type": "code",
   "execution_count": null,
   "metadata": {},
   "outputs": [],
   "source": []
  }
 ],
 "metadata": {
  "kernelspec": {
   "display_name": "SageMath 9.0",
   "language": "sage",
   "name": "sagemath"
  },
  "language_info": {
   "codemirror_mode": {
    "name": "ipython",
    "version": 3
   },
   "file_extension": ".py",
   "mimetype": "text/x-python",
   "name": "python",
   "nbconvert_exporter": "python",
   "pygments_lexer": "ipython3",
   "version": "3.8.10"
  }
 },
 "nbformat": 4,
 "nbformat_minor": 4
}
